{
 "cells": [
  {
   "cell_type": "code",
   "execution_count": 34,
   "metadata": {},
   "outputs": [],
   "source": [
    "import pandas as pd\n",
    "pd.set_option('display.max_colwidth', None)"
   ]
  },
  {
   "cell_type": "code",
   "execution_count": 35,
   "metadata": {},
   "outputs": [],
   "source": [
    "game = pd.read_csv('jeopardy.csv')"
   ]
  },
  {
   "cell_type": "code",
   "execution_count": 36,
   "metadata": {
    "scrolled": true
   },
   "outputs": [
    {
     "name": "stdout",
     "output_type": "stream",
     "text": [
      "   Show Number    Air Date      Round                         Category  Value  \\\n",
      "0         4680  2004-12-31  Jeopardy!                          HISTORY   $200   \n",
      "1         4680  2004-12-31  Jeopardy!  ESPN's TOP 10 ALL-TIME ATHLETES   $200   \n",
      "2         4680  2004-12-31  Jeopardy!      EVERYBODY TALKS ABOUT IT...   $200   \n",
      "3         4680  2004-12-31  Jeopardy!                 THE COMPANY LINE   $200   \n",
      "4         4680  2004-12-31  Jeopardy!              EPITAPHS & TRIBUTES   $200   \n",
      "\n",
      "                                                                                                      Question  \\\n",
      "0             For the last 8 years of his life, Galileo was under house arrest for espousing this man's theory   \n",
      "1  No. 2: 1912 Olympian; football star at Carlisle Indian School; 6 MLB seasons with the Reds, Giants & Braves   \n",
      "2                     The city of Yuma in this state has a record average of 4,055 hours of sunshine each year   \n",
      "3                         In 1963, live on \"The Art Linkletter Show\", this company served its billionth burger   \n",
      "4     Signer of the Dec. of Indep., framer of the Constitution of Mass., second President of the United States   \n",
      "\n",
      "       Answer  \n",
      "0  Copernicus  \n",
      "1  Jim Thorpe  \n",
      "2     Arizona  \n",
      "3  McDonald's  \n",
      "4  John Adams  \n"
     ]
    }
   ],
   "source": [
    "print(game.head(5))"
   ]
  },
  {
   "cell_type": "code",
   "execution_count": 37,
   "metadata": {},
   "outputs": [],
   "source": [
    "# Renaming misformatted columns\n",
    "game = game.rename(columns = {\" Air Date\": \"Air Date\", \" Round\" : \"Round\", \" Category\": \"Category\", \" Value\": \"Value\", \" Question\":\"Question\", \" Answer\": \"Answer\"})"
   ]
  },
  {
   "cell_type": "code",
   "execution_count": 38,
   "metadata": {},
   "outputs": [
    {
     "name": "stdout",
     "output_type": "stream",
     "text": [
      "   Show Number    Air Date      Round                         Category Value  \\\n",
      "0         4680  2004-12-31  Jeopardy!                          HISTORY  $200   \n",
      "1         4680  2004-12-31  Jeopardy!  ESPN's TOP 10 ALL-TIME ATHLETES  $200   \n",
      "\n",
      "                                                                                                      Question  \\\n",
      "0             For the last 8 years of his life, Galileo was under house arrest for espousing this man's theory   \n",
      "1  No. 2: 1912 Olympian; football star at Carlisle Indian School; 6 MLB seasons with the Reds, Giants & Braves   \n",
      "\n",
      "       Answer  \n",
      "0  Copernicus  \n",
      "1  Jim Thorpe  \n"
     ]
    }
   ],
   "source": [
    "print(game.head(2))"
   ]
  },
  {
   "cell_type": "code",
   "execution_count": 39,
   "metadata": {},
   "outputs": [
    {
     "data": {
      "text/html": [
       "<div>\n",
       "<style scoped>\n",
       "    .dataframe tbody tr th:only-of-type {\n",
       "        vertical-align: middle;\n",
       "    }\n",
       "\n",
       "    .dataframe tbody tr th {\n",
       "        vertical-align: top;\n",
       "    }\n",
       "\n",
       "    .dataframe thead th {\n",
       "        text-align: right;\n",
       "    }\n",
       "</style>\n",
       "<table border=\"1\" class=\"dataframe\">\n",
       "  <thead>\n",
       "    <tr style=\"text-align: right;\">\n",
       "      <th></th>\n",
       "      <th>Show Number</th>\n",
       "      <th>Air Date</th>\n",
       "      <th>Round</th>\n",
       "    </tr>\n",
       "  </thead>\n",
       "  <tbody>\n",
       "    <tr>\n",
       "      <th>0</th>\n",
       "      <td>4680</td>\n",
       "      <td>2004-12-31</td>\n",
       "      <td>Jeopardy!</td>\n",
       "    </tr>\n",
       "    <tr>\n",
       "      <th>1</th>\n",
       "      <td>4680</td>\n",
       "      <td>2004-12-31</td>\n",
       "      <td>Jeopardy!</td>\n",
       "    </tr>\n",
       "    <tr>\n",
       "      <th>2</th>\n",
       "      <td>4680</td>\n",
       "      <td>2004-12-31</td>\n",
       "      <td>Jeopardy!</td>\n",
       "    </tr>\n",
       "  </tbody>\n",
       "</table>\n",
       "</div>"
      ],
      "text/plain": [
       "   Show Number    Air Date      Round\n",
       "0         4680  2004-12-31  Jeopardy!\n",
       "1         4680  2004-12-31  Jeopardy!\n",
       "2         4680  2004-12-31  Jeopardy!"
      ]
     },
     "execution_count": 39,
     "metadata": {},
     "output_type": "execute_result"
    }
   ],
   "source": [
    "game.iloc[:3, :3]"
   ]
  },
  {
   "cell_type": "markdown",
   "metadata": {},
   "source": [
    "prints specific columns "
   ]
  },
  {
   "cell_type": "markdown",
   "metadata": {},
   "source": [
    "Function filtering the dataset for questions: Filtering a dataset by a list of words(filter_data), then lowercases all words in the list of words as well as the questions. Returns true is all of the words in the list appear in the question. (return data.loc)"
   ]
  },
  {
   "cell_type": "code",
   "execution_count": 40,
   "metadata": {},
   "outputs": [],
   "source": [
    "def filter_data(data, words): \n",
    "    filter = lambda x: all(word.lower() in x.lower() for word in words)\n",
    "    return data.loc[data[\"Question\"].apply(filter)]"
   ]
  },
  {
   "cell_type": "markdown",
   "metadata": {},
   "source": [
    "<center> <h6> Testing the filter function </h6>  </center> \n"
   ]
  },
  {
   "cell_type": "code",
   "execution_count": 41,
   "metadata": {},
   "outputs": [
    {
     "name": "stdout",
     "output_type": "stream",
     "text": [
      "1914                                                                                                                                                                                                In the early 1800s, this man's empire included the duchy of Warsaw, the kingdom of Naples & Spain\n",
      "13480                                                                                      (<a href=\"http://www.j-archive.com/media/2005-03-07_DJ_30.jpg\" target=\"_blank\">Jeff Probst reads from the jungle of Palau.</a>)  Palau is part of this group of islands named for King Charles II of Spain\n",
      "14282                                                                                                                                                                                                                            The traditional title for daughters of the kings of Portugal & Spain\n",
      "17413                                                                                                                                                                                                               The king of France in 1604 & the king of Spain in 2004 are members of this family\n",
      "25801                                                                                                                                                                                                                        In 1976 he became the first reigning king of Spain to visit the Americas\n",
      "35766                                                                                                                                                                                          The national hero of Spain, at times he fought for Christian kingdoms & at other times for Muslim ones\n",
      "36529                                                                                                                                                                                                             The siege of this kingdom, the last Moorish stronghold in Spain, began in late 1491\n",
      "49469                                                                                                                                                                                 Leon is in western Spain, & its kings also ruled much of this country that wasn't independent until around 1140\n",
      "53698                                                                                                                                       (Jimmy of the Clue Crew in Toledo, Spain)  Cristo de la Luz is a church today because in 1085 this hero helped King Alfonso retake Toledo for Christendom\n",
      "57331                                                                                                                                                                                       Many members of this ruling family, including Spain's King Philip IV, were noted for their prominent jaws\n",
      "61031                                                                                                                                                                                          This Cretan's 1582 work \"Martyrdom of St. Maurice\" was his last commission from Spain's King Philip II\n",
      "71378                                                                                                                                                                                                                               Ferdinand & Isabella of Spain got married & united their kingdoms\n",
      "72785                                                                                                                                                                                              Fabiola de Mora y Aragon of Spain was a December bride; she married Baudouin, king of this country\n",
      "81894                                                                                                                                                                                                         In 1795 the king of Spain granted him the first license to commercially produce Tequila\n",
      "84625                                                                                                                                                                     (Jimmy of the Clue Crew)  When they were done sacking Rome, these Germanic people came to Spain & made Toledo their capital\n",
      "85182                                                                                                                                                                                                          Juan Carlos I was sworn in as King of Spain 2 days after the death of this man in 1975\n",
      "105069                                                                                                                                                                                                                 In 711 a Muslim army defeated Roderick, the last king of these people in Spain\n",
      "109236                                                                                                                                                                                                               Spain's King Philip II was married 4 times; his second wife was this Tudor queen\n",
      "112630                (<a href=\"http://www.j-archive.com/media/2009-03-31_J_13.jpg\" target=\"_blank\">Jon of the Clue Crew reports from the Spanish coast.</a>)  Francis Drake's attacks on the Spanish province of Galicia were the last straw for Spain's king in deciding to gather this naval force\n",
      "121410                                                                                                                                                                                                     In 1981 this king thwarted a right-wing attempt to overhtrow Spain's democratic government\n",
      "122507                                                                                                                                                                                       The Peace of Utrecht ended this war & recognized the legitimacy of Louis XIV's grandson as King of Spain\n",
      "129621                                                                                                                                                                                                                This royal thwarted a coup d'etat in 1981 & to us he'll always be King of Spain\n",
      "133550                                                                                                                                                                              The fact the kings of Sweden & Spain are members of \"The Most Noble Order of\" this shouldn't knock your socks off\n",
      "138254                                                                                                                                                                                                        Juan Carlos became the first king of Spain in 44 years on the death of this man in 1975\n",
      "142065                                                                                                                                                                                                                  After being King of Naples & Spain, Joseph, this man's brother, moved to N.J.\n",
      "144682                                                                                                                                                                                           His 1808 ousting of the king of Spain gave Latin American states the pretext to declare independence\n",
      "146918                                                                                                                                                                                     In 1995, in Spain's 1st royal wedding in 89 years, this king's daughter Elena married a Castilian nobleman\n",
      "151849                                                                                                                                                                                                                        Court painter to King Philip IV, he was Spain's greatest Baroque artist\n",
      "155079                                                                                                                                                                                                                          In 1492 Spain took Grenada, the last kingdom of these people in Spain\n",
      "159363                                                                                                                                                                                                                 King Ferdinand & Queen Isabella of Spain sent this explorer on his 1492 voyage\n",
      "164518                                                                                                                                                                                            In 711 a large Muslim army crossed this strait & defeated Roderick, the last Visigoth king of Spain\n",
      "165971                                                                                                                                                                                                                                           He became king of Spain in 1975 after Franco's death\n",
      "166521                                                                                                                                                                                                     His family was in exile, so this future king of Spain was born in Rome, on January 5, 1938\n",
      "173835                                                                                                                                                                                                                              Napoleon was this to Joseph Bonaparte, whom he made King of Spain\n",
      "175063                                                                                                                                                                                   The Mexuar, the Serallo & the Harem are parts of the Royal Palace in this complex overlooking Granada, Spain\n",
      "181647                                                                                                                                                                                               In 1969 Franco said, \"Here, king\" & named him Spain's head of state upon Franco's leaving office\n",
      "183049                                                                                                                                                                                        In 1561 King Philip II chose this city as the capital of Spain, perhaps because he was born in the area\n",
      "188673    In one episode, Henry VIII & this woman have a little dinner conversation  <i><a href=\"http://www.j-archive.com/media/2007-03-29_DJ_02.wmv\">\"You have not answered my nephew's letters.\" \"Just because your nephew's the king of Spain, does he think I have nothing better to do?\"</a></i>\n",
      "188679                                                                   This daughter of Henry later married Spain's king; here she meets another royal  <i><a href=\"http://www.j-archive.com/media/2007-03-29_DJ_03.wmv\">\"Are you the Dauphin of France?\" \"Oui.\" \"Then I want to kiss you.\"</a></i>\n",
      "197293                                                                                                                                                                                                              In 1512 this king seized Navarre, completing the unification of what is now Spain\n",
      "202011                                                                                                                                                                                                               In 1731 this man's ear was cut off, later sparking a war between Spain & England\n",
      "207438                                                                                                                                                                                                                   Philip IV of Spain was also king of this country until it broke away in 1640\n",
      "207444                                                                                                                                                                       (Jimmy of the Clue Crew)  The royal palace was begun by Philip V, the first king of Spain from this French ruling family\n",
      "207787                                                                                                                                                                                                 Dynasty restored to the throne in 1874 & again in 1975 when Juan Carlos I became king of Spain\n",
      "207799                                                                                                                                                                                                  This brother of Napoleon was named king of Spain in 1808 after Napoleon conquered the country\n",
      "208000                                                                                                                                                                              In 1536 Spain's King Charles I made this explorer governor of Cuba; he arrived near present-day Tampa Bay in 1539\n",
      "209451                                                                                                                                                                                   In 1488 this king of Spain sent 100 Moorish slaves to Pope Innocent VIII who gave them as gifts to Cardinals\n",
      "213116                                                                                                                                                                                                                                               This man named his brother king of Spain in 1808\n",
      "215368                                                                                                                                                                             After the Moors were defeated at Tolosa in 1212, their rule was restricted to this small kingdom in southern Spain\n",
      "Name: Question, dtype: object\n"
     ]
    }
   ],
   "source": [
    "filtered = filter_data(game , [\"King\", \"Spain\"])\n",
    "print(filtered[\"Question\"])\n"
   ]
  },
  {
   "cell_type": "markdown",
   "metadata": {},
   "source": [
    "<center><h6>Convert the \" Value\" column to floats</h6>"
   ]
  },
  {
   "cell_type": "code",
   "execution_count": 42,
   "metadata": {},
   "outputs": [],
   "source": [
    "game[\"Float Value\"] = game[\"Value\"].apply(lambda x: float(x[1:].replace(',','')) if x != \"None\" else 0)\n"
   ]
  },
  {
   "cell_type": "markdown",
   "metadata": {},
   "source": [
    "<h5> <center> Filtering the dataset and finding the average value of those questions"
   ]
  },
  {
   "cell_type": "code",
   "execution_count": 43,
   "metadata": {},
   "outputs": [
    {
     "name": "stdout",
     "output_type": "stream",
     "text": [
      "771.8833850722094\n"
     ]
    }
   ],
   "source": [
    "filtered = filter_data(game, [\"King\"])\n",
    "print(filtered[\"Float Value\"].mean())"
   ]
  },
  {
   "cell_type": "markdown",
   "metadata": {},
   "source": [
    "<center>\n",
    "    <h5> A function to find the unique answers of a set of data"
   ]
  },
  {
   "cell_type": "code",
   "execution_count": 44,
   "metadata": {},
   "outputs": [],
   "source": [
    "\n",
    "def get_answer_counts(data):\n",
    "    return data[\"Answer\"].value_counts()\n",
    "\n"
   ]
  },
  {
   "cell_type": "code",
   "execution_count": 45,
   "metadata": {},
   "outputs": [
    {
     "name": "stdout",
     "output_type": "stream",
     "text": [
      "Henry VIII            55\n",
      "Solomon               35\n",
      "Richard III           33\n",
      "Louis XIV             31\n",
      "David                 30\n",
      "                      ..\n",
      "a shih tzu             1\n",
      "the summer             1\n",
      "the Pulitzer Prize     1\n",
      "a rotisserie           1\n",
      "Dale                   1\n",
      "Name: Answer, Length: 5268, dtype: int64\n"
     ]
    }
   ],
   "source": [
    "print(get_answer_counts(filtered))"
   ]
  }
 ],
 "metadata": {
  "kernelspec": {
   "display_name": "Python 3",
   "language": "python",
   "name": "python3"
  },
  "language_info": {
   "codemirror_mode": {
    "name": "ipython",
    "version": 3
   },
   "file_extension": ".py",
   "mimetype": "text/x-python",
   "name": "python",
   "nbconvert_exporter": "python",
   "pygments_lexer": "ipython3",
   "version": "3.8.5"
  }
 },
 "nbformat": 4,
 "nbformat_minor": 4
}
